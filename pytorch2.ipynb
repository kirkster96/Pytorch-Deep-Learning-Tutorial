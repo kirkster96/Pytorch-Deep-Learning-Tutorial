{
 "cells": [
  {
   "cell_type": "markdown",
   "metadata": {},
   "source": [
    "Deep learning with python and pytorch.\n",
    "\n",
    "Data - the actual input to a neural network\n",
    "    \n",
    "    aquire data\n",
    "    \n",
    "    preprocess data\n",
    "   \n",
    "   how to iterate over your data\n",
    "\n",
    "This consumes 90% of your time and energy when thinking about your model.\n",
    "    training time can take a long time but requires no work by the programmer\n",
    "    \n",
    "To begin we will use a toy data set."
   ]
  },
  {
   "cell_type": "code",
   "execution_count": 1,
   "metadata": {},
   "outputs": [
    {
     "name": "stdout",
     "output_type": "stream",
     "text": [
      "Requirement already satisfied: torchvision in c:\\users\\kirks\\anaconda3\\lib\\site-packages (0.5.0)\n",
      "Requirement already satisfied: numpy in c:\\users\\kirks\\anaconda3\\lib\\site-packages (from torchvision) (1.16.4)\n",
      "Requirement already satisfied: six in c:\\users\\kirks\\anaconda3\\lib\\site-packages (from torchvision) (1.12.0)\n",
      "Requirement already satisfied: torch==1.4.0 in c:\\users\\kirks\\anaconda3\\lib\\site-packages (from torchvision) (1.4.0)\n",
      "Requirement already satisfied: pillow>=4.1.1 in c:\\users\\kirks\\anaconda3\\lib\\site-packages (from torchvision) (6.1.0)\n",
      "Note: you may need to restart the kernel to use updated packages.\n"
     ]
    }
   ],
   "source": [
    "pip install torchvision"
   ]
  },
  {
   "cell_type": "code",
   "execution_count": 1,
   "metadata": {},
   "outputs": [],
   "source": [
    "import torch\n",
    "import torchvision\n",
    "from torchvision import transforms, datasets"
   ]
  },
  {
   "cell_type": "markdown",
   "metadata": {},
   "source": [
    "torchvision is a bunch of datasets that is used for vision. Vision is a good task to benchmark and the main interest that people are working with.\n",
    "    This is the most business interest and low hanging fruit."
   ]
  },
  {
   "cell_type": "code",
   "execution_count": null,
   "metadata": {},
   "outputs": [],
   "source": []
  }
 ],
 "metadata": {
  "kernelspec": {
   "display_name": "Python 3",
   "language": "python",
   "name": "python3"
  },
  "language_info": {
   "codemirror_mode": {
    "name": "ipython",
    "version": 3
   },
   "file_extension": ".py",
   "mimetype": "text/x-python",
   "name": "python",
   "nbconvert_exporter": "python",
   "pygments_lexer": "ipython3",
   "version": "3.7.3"
  }
 },
 "nbformat": 4,
 "nbformat_minor": 4
}
